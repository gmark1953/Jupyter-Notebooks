{
 "cells": [
  {
   "cell_type": "code",
   "execution_count": null,
   "metadata": {},
   "outputs": [],
   "source": []
  },
  {
   "cell_type": "code",
   "execution_count": 26,
   "metadata": {},
   "outputs": [],
   "source": [
    "# a is the loop radius in meters, r is the radial distance from the loop center in meters\n",
    "# x is the axial distance from the loop center in meters\n",
    "I = 1 # Loop Current in amps\n",
    "N = 1 # Number of Turns\n",
    "\n",
    "Ho(a,N,I) = N*I/(2a) #Magnetic Field of the loop at the center\n",
    "α(r,a) = r/a\n",
    "β(x,a) = x/a\n",
    "γ(x,r) = x/r\n",
    "\n",
    "Q(r,x,a) = (1 + α(r,a))^2 + β(x,a)^2\n",
    "k(r,x,a) = sqrt(4α(r,a)/Q(r,x,a))\n",
    "\n",
    "import Elliptic\n",
    "Kc(r,x,a) = Elliptic.K(k(r,x,a)^2)\n",
    "Ec(r,x,a) = Elliptic.E(k(r,x,a)^2)\n",
    "\n",
    "k1(r,x,a) = 1/(pi*sqrt(Q(r,x,a)))\n",
    "k2(r,x,a) = 1 - α(r,a)^2 - β(x,a)^2\n",
    "k3(r,x,a) = Q(r,x,a)-4α(r,a)\n",
    "k4(r,x,a) = 1 + α(r,a)^2 + β(x,a)^2\n",
    "\n",
    "Hx(r,x,a) = Ho(a,N,I)*k1(r,x,a)*(Ec(r,x,a)*k2(r,x,a)/k3(r,x,a) + Kc(r,x,a))\n",
    "Hr(r,x,a) = Ho(a,N,I)*γ(x,r)*k1(r,x,a)*(Ec(r,x,a)*k4(r,x,a)/k3(r,x,a) - Kc(r,x,a));"
   ]
  },
  {
   "cell_type": "code",
   "execution_count": 28,
   "metadata": {},
   "outputs": [
    {
     "data": {
      "text/plain": [
       "(0.07085135467068039, 0.15692413488259713)"
      ]
     },
     "execution_count": 28,
     "metadata": {},
     "output_type": "execute_result"
    }
   ],
   "source": [
    "Hx(.2,.2,.1),Hr(.2,.2,.1)"
   ]
  },
  {
   "cell_type": "code",
   "execution_count": null,
   "metadata": {
    "scrolled": false
   },
   "outputs": [],
   "source": []
  }
 ],
 "metadata": {
  "@webio": {
   "lastCommId": null,
   "lastKernelId": null
  },
  "kernelspec": {
   "display_name": "Julia 1.1.0",
   "language": "julia",
   "name": "julia-1.1"
  },
  "language_info": {
   "file_extension": ".jl",
   "mimetype": "application/julia",
   "name": "julia",
   "version": "1.1.0"
  }
 },
 "nbformat": 4,
 "nbformat_minor": 2
}
